{
 "cells": [
  {
   "cell_type": "markdown",
   "id": "8b24a9f1-45f2-4c5f-bec3-1388a673c600",
   "metadata": {},
   "source": [
    "## Projeto Aluguel de Veículos Elétricos"
   ]
  },
  {
   "cell_type": "code",
   "execution_count": 41,
   "id": "579a3a9e-6713-4abc-bfd6-0574dd7093b0",
   "metadata": {},
   "outputs": [],
   "source": [
    "# Pacotes necessários\n",
    "import pyspark\n",
    "from pyspark import SparkContext\n",
    "from pyspark.sql import SparkSession\n",
    "import pandas as pd\n",
    "import time\n",
    "import datetime as dt\n",
    "from pyspark.sql.functions import concat_ws, to_timestamp\n",
    "from pyspark.sql.functions import when, expr\n",
    "from pyspark.sql.functions import col, round\n",
    "from pyspark.sql.functions import avg\n"
   ]
  },
  {
   "cell_type": "code",
   "execution_count": 2,
   "id": "7825ce8b-8ee4-4975-b5e2-739398ea5b67",
   "metadata": {},
   "outputs": [],
   "source": [
    "# Sessão Spark\n",
    "spark = SparkSession.builder.appName(\"MeuApp\").getOrCreate()"
   ]
  },
  {
   "cell_type": "code",
   "execution_count": 3,
   "id": "43c45e3a-271e-4c82-8297-12937ed5de5c",
   "metadata": {},
   "outputs": [],
   "source": [
    "sc = spark.sparkContext"
   ]
  },
  {
   "cell_type": "code",
   "execution_count": 4,
   "id": "690da495-52f5-48ad-9a32-e01a2f4dd917",
   "metadata": {},
   "outputs": [],
   "source": [
    "# Cria o dataframe\n",
    "arquivo = \"Projeto_Veiculos/dataset.csv\"\n",
    "spark_df = spark.read.option(\"header\", True).csv(arquivo)"
   ]
  },
  {
   "cell_type": "code",
   "execution_count": 6,
   "id": "4e1e1499-e448-4e56-b4ad-4325424344f1",
   "metadata": {},
   "outputs": [
    {
     "data": {
      "text/plain": [
       "pyspark.sql.dataframe.DataFrame"
      ]
     },
     "execution_count": 6,
     "metadata": {},
     "output_type": "execute_result"
    }
   ],
   "source": [
    "type(spark_df)"
   ]
  },
  {
   "cell_type": "code",
   "execution_count": 13,
   "id": "8dfbac9a-053d-41b9-82f6-97ee9c2e6c44",
   "metadata": {},
   "outputs": [
    {
     "data": {
      "text/plain": [
       "686299"
      ]
     },
     "execution_count": 13,
     "metadata": {},
     "output_type": "execute_result"
    }
   ],
   "source": [
    "spark_df.count()"
   ]
  },
  {
   "cell_type": "code",
   "execution_count": 14,
   "id": "08de8c70-542a-49a7-a826-78ad67ddd52b",
   "metadata": {},
   "outputs": [
    {
     "data": {
      "text/plain": [
       "9"
      ]
     },
     "execution_count": 14,
     "metadata": {},
     "output_type": "execute_result"
    }
   ],
   "source": [
    "len(spark_df.columns)"
   ]
  },
  {
   "cell_type": "code",
   "execution_count": 15,
   "id": "406575cf-cbd6-420c-9fa6-55f7e28f105c",
   "metadata": {},
   "outputs": [
    {
     "data": {
      "text/plain": [
       "['Genero_Usuario',\n",
       " 'Idade_Usuario',\n",
       " 'Veiculo',\n",
       " 'Loja_Aluguel',\n",
       " 'Data_Aluguel',\n",
       " 'Hora_Aluguel',\n",
       " 'Loja_Devolucao',\n",
       " 'Data_Devolucao',\n",
       " 'Hora_Devolucao']"
      ]
     },
     "execution_count": 15,
     "metadata": {},
     "output_type": "execute_result"
    }
   ],
   "source": [
    "spark_df.columns"
   ]
  },
  {
   "cell_type": "code",
   "execution_count": 11,
   "id": "644c26e1-d217-478d-b709-dbe577609747",
   "metadata": {},
   "outputs": [
    {
     "name": "stdout",
     "output_type": "stream",
     "text": [
      "+--------------+-------------+-------+------------+------------+------------+--------------+--------------+--------------+\n",
      "|Genero_Usuario|Idade_Usuario|Veiculo|Loja_Aluguel|Data_Aluguel|Hora_Aluguel|Loja_Devolucao|Data_Devolucao|Hora_Devolucao|\n",
      "+--------------+-------------+-------+------------+------------+------------+--------------+--------------+--------------+\n",
      "|             M|           44|   4357|         442|  01/02/2020|     0:00:38|           116|    01/02/2020|       0:35:17|\n",
      "|             M|           22|  12083|          66|  01/02/2020|     0:00:53|            37|    01/02/2020|       0:06:23|\n",
      "|             M|           29|  11562|         331|  01/02/2020|     0:00:55|           341|    01/02/2020|       0:26:47|\n",
      "|             M|           27|  10206|         164|  01/02/2020|     0:01:18|            35|    01/02/2020|       0:16:51|\n",
      "|             M|           27|  10101|         120|  01/02/2020|     0:01:18|            47|    01/02/2020|       0:12:39|\n",
      "+--------------+-------------+-------+------------+------------+------------+--------------+--------------+--------------+\n",
      "only showing top 5 rows\n",
      "\n"
     ]
    }
   ],
   "source": [
    "spark_df.show(5)"
   ]
  },
  {
   "cell_type": "code",
   "execution_count": 28,
   "id": "e05ba065-b695-4c08-a529-2f2a152c719d",
   "metadata": {},
   "outputs": [
    {
     "name": "stdout",
     "output_type": "stream",
     "text": [
      "root\n",
      " |-- Genero_Usuario: string (nullable = true)\n",
      " |-- Idade_Usuario: string (nullable = true)\n",
      " |-- Veiculo: string (nullable = true)\n",
      " |-- Loja_Aluguel: string (nullable = true)\n",
      " |-- Loja_Devolucao: string (nullable = true)\n",
      " |-- datahora_aluguel: timestamp (nullable = true)\n",
      " |-- datahora_devolucao: timestamp (nullable = true)\n",
      "\n"
     ]
    }
   ],
   "source": [
    "spark_df.printSchema()"
   ]
  },
  {
   "cell_type": "code",
   "execution_count": 16,
   "id": "6c4cfd3b-a218-47ee-b48b-1bf35c557de1",
   "metadata": {},
   "outputs": [
    {
     "name": "stdout",
     "output_type": "stream",
     "text": [
      "+-------+--------------+-----------------+------------------+-----------------+------------+------------+------------------+--------------+--------------+\n",
      "|summary|Genero_Usuario|    Idade_Usuario|           Veiculo|     Loja_Aluguel|Data_Aluguel|Hora_Aluguel|    Loja_Devolucao|Data_Devolucao|Hora_Devolucao|\n",
      "+-------+--------------+-----------------+------------------+-----------------+------------+------------+------------------+--------------+--------------+\n",
      "|  count|        686299|           686299|            686299|           686299|      686299|      686299|            686299|        686299|        686299|\n",
      "|   mean|          NULL|35.28143709957322|  9376.32784981473|184.6764908589405|        NULL|        NULL|183.73291961666854|          NULL|          NULL|\n",
      "| stddev|          NULL|10.39871787138301|2524.5212819960666|134.8961691532454|        NULL|        NULL|  134.574154763723|          NULL|          NULL|\n",
      "|    min|             F|              119|             10000|                1|  01/02/2020|     0:00:00|                 1|    01/02/2020|       0:00:00|\n",
      "|    max|             M|               83|              9997|               99|  31/01/2020|     9:59:59|                99|    29/02/2020|       9:59:59|\n",
      "+-------+--------------+-----------------+------------------+-----------------+------------+------------+------------------+--------------+--------------+\n",
      "\n"
     ]
    }
   ],
   "source": [
    "spark_df.describe().show()"
   ]
  },
  {
   "cell_type": "markdown",
   "id": "92bc117e-62c5-42aa-a436-f1486bf4b6c8",
   "metadata": {},
   "source": [
    "### Limpeza e Transformação"
   ]
  },
  {
   "cell_type": "code",
   "execution_count": 18,
   "id": "a929f47e-60cb-4c0c-a28b-10f3583adffe",
   "metadata": {},
   "outputs": [],
   "source": [
    "# Cria colunas de data/hora concatenadas\n",
    "spark_df = spark_df.withColumn(\n",
    "    'datahora_aluguel',\n",
    "    to_timestamp(concat_ws(' ', 'Data_Aluguel', 'Hora_Aluguel'), 'dd/MM/yyyy HH:mm:ss')\n",
    ")\n",
    "\n",
    "spark_df = spark_df.withColumn(\n",
    "    'datahora_devolucao',\n",
    "    to_timestamp(concat_ws(' ', 'Data_Devolucao', 'Hora_Devolucao'), 'dd/MM/yyyy HH:mm:ss')\n",
    ")"
   ]
  },
  {
   "cell_type": "code",
   "execution_count": 24,
   "id": "cbd54485-ac1b-45e7-9f50-a9f37c6b9975",
   "metadata": {},
   "outputs": [],
   "source": [
    "spark.conf.set('spark.sql.legacy.timeParserPolicy', 'LEGACY')"
   ]
  },
  {
   "cell_type": "code",
   "execution_count": 27,
   "id": "e078491b-ca8b-4986-9b80-270d6d6cb6a7",
   "metadata": {},
   "outputs": [
    {
     "name": "stdout",
     "output_type": "stream",
     "text": [
      "+--------------+-------------+-------+------------+--------------+-------------------+-------------------+\n",
      "|Genero_Usuario|Idade_Usuario|Veiculo|Loja_Aluguel|Loja_Devolucao|   datahora_aluguel| datahora_devolucao|\n",
      "+--------------+-------------+-------+------------+--------------+-------------------+-------------------+\n",
      "|             M|           44|   4357|         442|           116|2020-02-01 00:00:38|2020-02-01 00:35:17|\n",
      "|             M|           22|  12083|          66|            37|2020-02-01 00:00:53|2020-02-01 00:06:23|\n",
      "|             M|           29|  11562|         331|           341|2020-02-01 00:00:55|2020-02-01 00:26:47|\n",
      "|             M|           27|  10206|         164|            35|2020-02-01 00:01:18|2020-02-01 00:16:51|\n",
      "|             M|           27|  10101|         120|            47|2020-02-01 00:01:18|2020-02-01 00:12:39|\n",
      "+--------------+-------------+-------+------------+--------------+-------------------+-------------------+\n",
      "only showing top 5 rows\n",
      "\n"
     ]
    }
   ],
   "source": [
    "spark_df.show(5)"
   ]
  },
  {
   "cell_type": "code",
   "execution_count": 26,
   "id": "1dfc0240-af0e-4e5b-8648-c83245cc1869",
   "metadata": {},
   "outputs": [],
   "source": [
    "# Remove colunas antigas\n",
    "spark_df = spark_df.drop('Data_Aluguel', 'Hora_Aluguel', 'Data_Devolucao', 'Hora_Devolucao')"
   ]
  },
  {
   "cell_type": "code",
   "execution_count": 31,
   "id": "f69c1688-9f7c-4ee8-84f8-743198cebf1e",
   "metadata": {},
   "outputs": [],
   "source": [
    "# Cria faixas etárias\n",
    "spark_df = spark_df.withColumn(\n",
    "    'Faixa_Etaria',\n",
    "    when(spark_df.Idade_Usuario < 18, 'Menor de idade')\n",
    "    .when(spark_df.Idade_Usuario < 30, 'Jovem adulto')\n",
    "    .when(spark_df.Idade_Usuario < 45, 'Adulto')\n",
    "    .when(spark_df.Idade_Usuario < 60, 'Meia-idade')\n",
    "    .otherwise('Idoso')\n",
    ")"
   ]
  },
  {
   "cell_type": "code",
   "execution_count": 32,
   "id": "37b1f166-5289-4b83-bc94-8ad4da694c83",
   "metadata": {},
   "outputs": [
    {
     "name": "stdout",
     "output_type": "stream",
     "text": [
      "+-------------+--------------+\n",
      "|Idade_Usuario|  Faixa_Etaria|\n",
      "+-------------+--------------+\n",
      "|          119|         Idoso|\n",
      "|           16|Menor de idade|\n",
      "|           17|Menor de idade|\n",
      "|           18|  Jovem adulto|\n",
      "|           19|  Jovem adulto|\n",
      "|           20|  Jovem adulto|\n",
      "|           21|  Jovem adulto|\n",
      "|           22|  Jovem adulto|\n",
      "|           23|  Jovem adulto|\n",
      "|           24|  Jovem adulto|\n",
      "|           25|  Jovem adulto|\n",
      "|           26|  Jovem adulto|\n",
      "|           27|  Jovem adulto|\n",
      "|           28|  Jovem adulto|\n",
      "|           29|  Jovem adulto|\n",
      "|           30|        Adulto|\n",
      "|           31|        Adulto|\n",
      "|           32|        Adulto|\n",
      "|           33|        Adulto|\n",
      "|           34|        Adulto|\n",
      "+-------------+--------------+\n",
      "only showing top 20 rows\n",
      "\n"
     ]
    }
   ],
   "source": [
    "spark_df.select('Idade_Usuario', 'Faixa_Etaria').distinct().orderBy('Idade_Usuario').show()"
   ]
  },
  {
   "cell_type": "markdown",
   "id": "c780c325-75dc-4db1-b74d-3e64b6ed5274",
   "metadata": {},
   "source": [
    "### Análises"
   ]
  },
  {
   "cell_type": "code",
   "execution_count": 34,
   "id": "a8798d3d-cac3-4d6b-8c04-1231336bb1b7",
   "metadata": {},
   "outputs": [],
   "source": [
    "# Calcula a duração do aluguel\n",
    "spark_df = spark_df.withColumn(\n",
    "    'Duracao_Horas',\n",
    "    round((col('datahora_devolucao').cast('long') - col('datahora_aluguel').cast('long')) / 3600, 2)\n",
    ")"
   ]
  },
  {
   "cell_type": "code",
   "execution_count": 37,
   "id": "d053df29-8837-4ed0-a732-57874153df19",
   "metadata": {},
   "outputs": [
    {
     "name": "stdout",
     "output_type": "stream",
     "text": [
      "+-------------------+-------------------+-------------+\n",
      "|   datahora_aluguel| datahora_devolucao|Duracao_Horas|\n",
      "+-------------------+-------------------+-------------+\n",
      "|2020-02-01 00:00:38|2020-02-01 00:35:17|         0.58|\n",
      "|2020-02-01 00:00:53|2020-02-01 00:06:23|         0.09|\n",
      "|2020-02-01 00:00:55|2020-02-01 00:26:47|         0.43|\n",
      "|2020-02-01 00:01:18|2020-02-01 00:16:51|         0.26|\n",
      "|2020-02-01 00:01:18|2020-02-01 00:12:39|         0.19|\n",
      "+-------------------+-------------------+-------------+\n",
      "only showing top 5 rows\n",
      "\n"
     ]
    }
   ],
   "source": [
    "spark_df.select('datahora_aluguel', 'datahora_devolucao', 'Duracao_Horas').show(5)"
   ]
  },
  {
   "cell_type": "code",
   "execution_count": 38,
   "id": "16bd3917-23d0-4e46-aa14-7c4a190b6998",
   "metadata": {},
   "outputs": [],
   "source": [
    "# Cria coluna Duracao_Minutos (parte inteira)\n",
    "spark_df = spark_df.withColumn(\n",
    "    'Duracao_Minutos', expr('int(Duracao_Horas * 60)')\n",
    ")"
   ]
  },
  {
   "cell_type": "code",
   "execution_count": 39,
   "id": "aa425052-c19e-4e3a-8a3e-6313b30edc5b",
   "metadata": {},
   "outputs": [
    {
     "name": "stdout",
     "output_type": "stream",
     "text": [
      "+-------------+---------------+\n",
      "|Duracao_Horas|Duracao_Minutos|\n",
      "+-------------+---------------+\n",
      "|         0.58|             34|\n",
      "|         0.09|              5|\n",
      "|         0.43|             25|\n",
      "|         0.26|             15|\n",
      "|         0.19|             11|\n",
      "+-------------+---------------+\n",
      "only showing top 5 rows\n",
      "\n"
     ]
    }
   ],
   "source": [
    "spark_df.select('Duracao_Horas', 'Duracao_Minutos').show(5)"
   ]
  },
  {
   "cell_type": "code",
   "execution_count": 44,
   "id": "3934a3c1-b84e-426d-8366-914b782df16a",
   "metadata": {},
   "outputs": [
    {
     "name": "stdout",
     "output_type": "stream",
     "text": [
      "+--------------+---------------------+\n",
      "|  Faixa_Etaria|Media_Duracao_Minutos|\n",
      "+--------------+---------------------+\n",
      "|        Adulto|                15.44|\n",
      "|         Idoso|                14.13|\n",
      "|  Jovem adulto|                15.44|\n",
      "|    Meia-idade|                14.25|\n",
      "|Menor de idade|                12.71|\n",
      "+--------------+---------------------+\n",
      "\n"
     ]
    }
   ],
   "source": [
    "# Média de duração do aluguel por faixa etária\n",
    "spark_df.groupBy('Faixa_Etaria') \\\n",
    "    .agg(round(avg('Duracao_Minutos'), 2).alias('Media_Duracao_Minutos')) \\\n",
    "    .orderBy('Faixa_Etaria') \\\n",
    "    .show()"
   ]
  },
  {
   "cell_type": "code",
   "execution_count": 47,
   "id": "0d372782-6cdb-4f92-988c-4d47af7f95f9",
   "metadata": {},
   "outputs": [
    {
     "name": "stdout",
     "output_type": "stream",
     "text": [
      "+-------+-----+\n",
      "|Veiculo|count|\n",
      "+-------+-----+\n",
      "|  10771|  217|\n",
      "|  10810|  208|\n",
      "|   7854|  193|\n",
      "|   8463|  190|\n",
      "|   4013|  189|\n",
      "|  10907|  186|\n",
      "|  10476|  185|\n",
      "|  10442|  184|\n",
      "|   7422|  184|\n",
      "|   7892|  184|\n",
      "+-------+-----+\n",
      "only showing top 10 rows\n",
      "\n"
     ]
    }
   ],
   "source": [
    "# Veículos mais alugados (Top 10)\n",
    "spark_df.groupBy('Veiculo').count().orderBy('count', ascending=False).show(10)"
   ]
  },
  {
   "cell_type": "code",
   "execution_count": 46,
   "id": "0d2ef65c-91e1-4ba8-9fc0-6cf9250b8a82",
   "metadata": {},
   "outputs": [
    {
     "name": "stdout",
     "output_type": "stream",
     "text": [
      "+------------+-----+\n",
      "|Loja_Aluguel|count|\n",
      "+------------+-----+\n",
      "|           1| 6309|\n",
      "|          27| 6240|\n",
      "|         271| 5265|\n",
      "|          64| 4834|\n",
      "|          41| 4633|\n",
      "|         182| 4593|\n",
      "|          18| 4384|\n",
      "|          28| 4345|\n",
      "|          36| 4202|\n",
      "|          43| 4121|\n",
      "+------------+-----+\n",
      "only showing top 10 rows\n",
      "\n"
     ]
    }
   ],
   "source": [
    "# Lojas com mais aluguéis (Top 10)\n",
    "spark_df.groupBy('Loja_Aluguel').count().orderBy('count', ascending=False).show(10)"
   ]
  },
  {
   "cell_type": "code",
   "execution_count": 48,
   "id": "712f389b-eb13-4686-bab9-dd673ad5a7c9",
   "metadata": {},
   "outputs": [
    {
     "name": "stdout",
     "output_type": "stream",
     "text": [
      "+-------+---------------------+\n",
      "|Veiculo|Media_Duracao_Minutos|\n",
      "+-------+---------------------+\n",
      "|   9589|             120839.0|\n",
      "|   9828|             108618.0|\n",
      "|   7808|              1352.67|\n",
      "|   7981|              1098.94|\n",
      "|   7770|              1050.65|\n",
      "|   7288|               233.67|\n",
      "|   7586|               171.62|\n",
      "|   9081|               151.01|\n",
      "|   7117|               142.17|\n",
      "|  12494|               141.89|\n",
      "+-------+---------------------+\n",
      "only showing top 10 rows\n",
      "\n"
     ]
    }
   ],
   "source": [
    "# Tempo médio de aluguel por veículo (Top 10)\n",
    "spark_df.groupBy('Veiculo').agg(round(avg('Duracao_Minutos'), 2).alias('Media_Duracao_Minutos')) \\\n",
    "    .orderBy('Media_Duracao_Minutos', ascending=False).show(10)"
   ]
  },
  {
   "cell_type": "code",
   "execution_count": 50,
   "id": "921053c8-c7de-4532-8653-3fbeebde09ee",
   "metadata": {},
   "outputs": [
    {
     "name": "stdout",
     "output_type": "stream",
     "text": [
      "+--------------+------+\n",
      "|  Faixa_Etaria| count|\n",
      "+--------------+------+\n",
      "|        Adulto|327428|\n",
      "|  Jovem adulto|233806|\n",
      "|    Meia-idade|101529|\n",
      "|         Idoso| 22204|\n",
      "|Menor de idade|  1332|\n",
      "+--------------+------+\n",
      "\n"
     ]
    }
   ],
   "source": [
    "# Quantidade de aluguéis por faixa etária\n",
    "spark_df.groupBy('Faixa_Etaria').count().orderBy('count', ascending=False).show()"
   ]
  },
  {
   "cell_type": "markdown",
   "id": "03f1d4f4-87bc-4cb5-8cb0-4bd5f63a211e",
   "metadata": {},
   "source": [
    "## Fim"
   ]
  }
 ],
 "metadata": {
  "kernelspec": {
   "display_name": "Python 3 (ipykernel)",
   "language": "python",
   "name": "python3"
  },
  "language_info": {
   "codemirror_mode": {
    "name": "ipython",
    "version": 3
   },
   "file_extension": ".py",
   "mimetype": "text/x-python",
   "name": "python",
   "nbconvert_exporter": "python",
   "pygments_lexer": "ipython3",
   "version": "3.11.7"
  }
 },
 "nbformat": 4,
 "nbformat_minor": 5
}
